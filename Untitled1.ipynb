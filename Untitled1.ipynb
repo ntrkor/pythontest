{
  "nbformat": 4,
  "nbformat_minor": 0,
  "metadata": {
    "colab": {
      "provenance": [],
      "authorship_tag": "ABX9TyNd4dOxK0spM9oSFoILovun",
      "include_colab_link": true
    },
    "kernelspec": {
      "name": "python3",
      "display_name": "Python 3"
    },
    "language_info": {
      "name": "python"
    }
  },
  "cells": [
    {
      "cell_type": "markdown",
      "metadata": {
        "id": "view-in-github",
        "colab_type": "text"
      },
      "source": [
        "<a href=\"https://colab.research.google.com/github/ntrkor/pythontest/blob/main/Untitled1.ipynb\" target=\"_parent\"><img src=\"https://colab.research.google.com/assets/colab-badge.svg\" alt=\"Open In Colab\"/></a>"
      ]
    },
    {
      "cell_type": "code",
      "source": [
        "a = int(input(\"จำนวนที่ 1:\"))\n",
        "b = int(input(\"จำนวนที่ 2:\"))\n",
        "c = int(input(\"จำนวนที่ 3:\"))\n",
        "m = a\n",
        "if(b<m):\n",
        "  m = b\n",
        "if(c<m):\n",
        "  m=c\n",
        "print(\"ค่าน้อยที่สุด คือ\",m)\n",
        "  "
      ],
      "metadata": {
        "colab": {
          "base_uri": "https://localhost:8080/"
        },
        "id": "2d-Kli5ou7yE",
        "outputId": "3d5f3335-b638-41d8-fb24-415fd8d27517"
      },
      "execution_count": 3,
      "outputs": [
        {
          "output_type": "stream",
          "name": "stdout",
          "text": [
            "จำนวนที่ 1:5\n",
            "จำนวนที่ 2:7\n",
            "จำนวนที่ 3:2\n",
            "ค่าน้อยที่สุด คือ 2\n"
          ]
        }
      ]
    }
  ]
}